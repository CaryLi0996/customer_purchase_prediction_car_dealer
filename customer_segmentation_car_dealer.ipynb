{
 "cells": [
  {
   "cell_type": "markdown",
   "metadata": {
    "papermill": {
     "duration": 0.022235,
     "end_time": "2021-07-26T16:46:13.703868",
     "exception": false,
     "start_time": "2021-07-26T16:46:13.681633",
     "status": "completed"
    },
    "tags": []
   },
   "source": [
    "### Part 1 Data preparation and visualization\n",
    "\n",
    "1. Read the dataset \n",
    "2. Delete all the rows containing the missing data. Imputation is not necessary. \n",
    "3. Encode the data where necessary. \n",
    "4. Visualize the columns and their pairs. \n",
    "5. Produce the correlation matrix to make a first guess on usefulness of the predictors."
   ]
  },
  {
   "cell_type": "code",
   "execution_count": 2,
   "metadata": {
    "execution": {
     "iopub.execute_input": "2021-07-26T16:46:13.755807Z",
     "iopub.status.busy": "2021-07-26T16:46:13.755099Z",
     "iopub.status.idle": "2021-07-26T16:46:13.885507Z",
     "shell.execute_reply": "2021-07-26T16:46:13.886153Z",
     "shell.execute_reply.started": "2021-07-26T16:26:55.071471Z"
    },
    "papermill": {
     "duration": 0.159912,
     "end_time": "2021-07-26T16:46:13.886345",
     "exception": false,
     "start_time": "2021-07-26T16:46:13.726433",
     "status": "completed"
    },
    "tags": []
   },
   "outputs": [
    {
     "data": {
      "text/html": [
       "<div>\n",
       "<style scoped>\n",
       "    .dataframe tbody tr th:only-of-type {\n",
       "        vertical-align: middle;\n",
       "    }\n",
       "\n",
       "    .dataframe tbody tr th {\n",
       "        vertical-align: top;\n",
       "    }\n",
       "\n",
       "    .dataframe thead th {\n",
       "        text-align: right;\n",
       "    }\n",
       "</style>\n",
       "<table border=\"1\" class=\"dataframe\">\n",
       "  <thead>\n",
       "    <tr style=\"text-align: right;\">\n",
       "      <th></th>\n",
       "      <th>sex</th>\n",
       "      <th>age</th>\n",
       "      <th>income</th>\n",
       "      <th>purchase</th>\n",
       "    </tr>\n",
       "  </thead>\n",
       "  <tbody>\n",
       "    <tr>\n",
       "      <th>0</th>\n",
       "      <td>Male</td>\n",
       "      <td>19.0</td>\n",
       "      <td>19000.0</td>\n",
       "      <td>0.0</td>\n",
       "    </tr>\n",
       "    <tr>\n",
       "      <th>1</th>\n",
       "      <td>Male</td>\n",
       "      <td>35.0</td>\n",
       "      <td>20000.0</td>\n",
       "      <td>0.0</td>\n",
       "    </tr>\n",
       "    <tr>\n",
       "      <th>2</th>\n",
       "      <td>Female</td>\n",
       "      <td>26.0</td>\n",
       "      <td>43000.0</td>\n",
       "      <td>0.0</td>\n",
       "    </tr>\n",
       "    <tr>\n",
       "      <th>3</th>\n",
       "      <td>Female</td>\n",
       "      <td>27.0</td>\n",
       "      <td>57000.0</td>\n",
       "      <td>0.0</td>\n",
       "    </tr>\n",
       "    <tr>\n",
       "      <th>4</th>\n",
       "      <td>Male</td>\n",
       "      <td>19.0</td>\n",
       "      <td>76000.0</td>\n",
       "      <td>0.0</td>\n",
       "    </tr>\n",
       "  </tbody>\n",
       "</table>\n",
       "</div>"
      ],
      "text/plain": [
       "      sex   age   income  purchase\n",
       "0    Male  19.0  19000.0       0.0\n",
       "1    Male  35.0  20000.0       0.0\n",
       "2  Female  26.0  43000.0       0.0\n",
       "3  Female  27.0  57000.0       0.0\n",
       "4    Male  19.0  76000.0       0.0"
      ]
     },
     "execution_count": 2,
     "metadata": {},
     "output_type": "execute_result"
    }
   ],
   "source": [
    "data = pd.read_csv('dealer_data.csv'), usecols=['sex','age','income','purchase'])\n",
    "data.head()"
   ]
  },
  {
   "cell_type": "code",
   "execution_count": 3,
   "metadata": {
    "execution": {
     "iopub.execute_input": "2021-07-26T16:46:13.955231Z",
     "iopub.status.busy": "2021-07-26T16:46:13.954276Z",
     "iopub.status.idle": "2021-07-26T16:46:13.958229Z",
     "shell.execute_reply": "2021-07-26T16:46:13.958682Z",
     "shell.execute_reply.started": "2021-07-26T16:26:55.258359Z"
    },
    "papermill": {
     "duration": 0.039256,
     "end_time": "2021-07-26T16:46:13.958873",
     "exception": false,
     "start_time": "2021-07-26T16:46:13.919617",
     "status": "completed"
    },
    "tags": []
   },
   "outputs": [
    {
     "data": {
      "text/plain": [
       "(502, 4)"
      ]
     },
     "execution_count": 3,
     "metadata": {},
     "output_type": "execute_result"
    }
   ],
   "source": [
    "data.shape"
   ]
  },
  {
   "cell_type": "code",
   "execution_count": 4,
   "metadata": {
    "execution": {
     "iopub.execute_input": "2021-07-26T16:46:14.015162Z",
     "iopub.status.busy": "2021-07-26T16:46:14.014497Z",
     "iopub.status.idle": "2021-07-26T16:46:14.017416Z",
     "shell.execute_reply": "2021-07-26T16:46:14.017896Z",
     "shell.execute_reply.started": "2021-07-26T16:26:55.269280Z"
    },
    "papermill": {
     "duration": 0.035879,
     "end_time": "2021-07-26T16:46:14.018063",
     "exception": false,
     "start_time": "2021-07-26T16:46:13.982184",
     "status": "completed"
    },
    "tags": []
   },
   "outputs": [
    {
     "data": {
      "text/plain": [
       "Female    257\n",
       "Male      245\n",
       "Name: sex, dtype: int64"
      ]
     },
     "execution_count": 4,
     "metadata": {},
     "output_type": "execute_result"
    }
   ],
   "source": [
    "data['sex'].value_counts()"
   ]
  },
  {
   "cell_type": "code",
   "execution_count": 5,
   "metadata": {
    "execution": {
     "iopub.execute_input": "2021-07-26T16:46:14.068156Z",
     "iopub.status.busy": "2021-07-26T16:46:14.067522Z",
     "iopub.status.idle": "2021-07-26T16:46:14.094359Z",
     "shell.execute_reply": "2021-07-26T16:46:14.093804Z",
     "shell.execute_reply.started": "2021-07-26T16:26:55.285186Z"
    },
    "papermill": {
     "duration": 0.052948,
     "end_time": "2021-07-26T16:46:14.094491",
     "exception": false,
     "start_time": "2021-07-26T16:46:14.041543",
     "status": "completed"
    },
    "tags": []
   },
   "outputs": [
    {
     "data": {
      "text/html": [
       "<div>\n",
       "<style scoped>\n",
       "    .dataframe tbody tr th:only-of-type {\n",
       "        vertical-align: middle;\n",
       "    }\n",
       "\n",
       "    .dataframe tbody tr th {\n",
       "        vertical-align: top;\n",
       "    }\n",
       "\n",
       "    .dataframe thead th {\n",
       "        text-align: right;\n",
       "    }\n",
       "</style>\n",
       "<table border=\"1\" class=\"dataframe\">\n",
       "  <thead>\n",
       "    <tr style=\"text-align: right;\">\n",
       "      <th></th>\n",
       "      <th>age</th>\n",
       "      <th>income</th>\n",
       "      <th>purchase</th>\n",
       "    </tr>\n",
       "  </thead>\n",
       "  <tbody>\n",
       "    <tr>\n",
       "      <th>count</th>\n",
       "      <td>481.000000</td>\n",
       "      <td>476.000000</td>\n",
       "      <td>482.000000</td>\n",
       "    </tr>\n",
       "    <tr>\n",
       "      <th>mean</th>\n",
       "      <td>39.022869</td>\n",
       "      <td>69399.159664</td>\n",
       "      <td>0.394191</td>\n",
       "    </tr>\n",
       "    <tr>\n",
       "      <th>std</th>\n",
       "      <td>10.476437</td>\n",
       "      <td>33758.029366</td>\n",
       "      <td>0.489184</td>\n",
       "    </tr>\n",
       "    <tr>\n",
       "      <th>min</th>\n",
       "      <td>18.000000</td>\n",
       "      <td>15000.000000</td>\n",
       "      <td>0.000000</td>\n",
       "    </tr>\n",
       "    <tr>\n",
       "      <th>25%</th>\n",
       "      <td>31.000000</td>\n",
       "      <td>43000.000000</td>\n",
       "      <td>0.000000</td>\n",
       "    </tr>\n",
       "    <tr>\n",
       "      <th>50%</th>\n",
       "      <td>39.000000</td>\n",
       "      <td>69500.000000</td>\n",
       "      <td>0.000000</td>\n",
       "    </tr>\n",
       "    <tr>\n",
       "      <th>75%</th>\n",
       "      <td>47.000000</td>\n",
       "      <td>87000.000000</td>\n",
       "      <td>1.000000</td>\n",
       "    </tr>\n",
       "    <tr>\n",
       "      <th>max</th>\n",
       "      <td>60.000000</td>\n",
       "      <td>150000.000000</td>\n",
       "      <td>1.000000</td>\n",
       "    </tr>\n",
       "  </tbody>\n",
       "</table>\n",
       "</div>"
      ],
      "text/plain": [
       "              age         income    purchase\n",
       "count  481.000000     476.000000  482.000000\n",
       "mean    39.022869   69399.159664    0.394191\n",
       "std     10.476437   33758.029366    0.489184\n",
       "min     18.000000   15000.000000    0.000000\n",
       "25%     31.000000   43000.000000    0.000000\n",
       "50%     39.000000   69500.000000    0.000000\n",
       "75%     47.000000   87000.000000    1.000000\n",
       "max     60.000000  150000.000000    1.000000"
      ]
     },
     "execution_count": 5,
     "metadata": {},
     "output_type": "execute_result"
    }
   ],
   "source": [
    "data[['age', 'income','purchase']].describe()"
   ]
  },
  {
   "cell_type": "code",
   "execution_count": 6,
   "metadata": {
    "execution": {
     "iopub.execute_input": "2021-07-26T16:46:14.152702Z",
     "iopub.status.busy": "2021-07-26T16:46:14.151998Z",
     "iopub.status.idle": "2021-07-26T16:46:14.157988Z",
     "shell.execute_reply": "2021-07-26T16:46:14.158523Z",
     "shell.execute_reply.started": "2021-07-26T16:26:55.315164Z"
    },
    "papermill": {
     "duration": 0.039018,
     "end_time": "2021-07-26T16:46:14.158685",
     "exception": false,
     "start_time": "2021-07-26T16:46:14.119667",
     "status": "completed"
    },
    "tags": []
   },
   "outputs": [
    {
     "name": "stdout",
     "output_type": "stream",
     "text": [
      "column sex has 0 missing values\n",
      "column age has 21 missing values\n",
      "column income has 26 missing values\n",
      "column purchase has 20 missing values\n"
     ]
    }
   ],
   "source": [
    "for col in data.columns:\n",
    "\n",
    "    missing_vals = data[data[col].isna()].shape[0]\n",
    "    \n",
    "    print(\"column\", col, \"has\", missing_vals, \"missing values\")"
   ]
  },
  {
   "cell_type": "code",
   "execution_count": 7,
   "metadata": {
    "execution": {
     "iopub.execute_input": "2021-07-26T16:46:14.214007Z",
     "iopub.status.busy": "2021-07-26T16:46:14.213337Z",
     "iopub.status.idle": "2021-07-26T16:46:14.231928Z",
     "shell.execute_reply": "2021-07-26T16:46:14.231371Z",
     "shell.execute_reply.started": "2021-07-26T16:26:55.331718Z"
    },
    "papermill": {
     "duration": 0.049019,
     "end_time": "2021-07-26T16:46:14.232085",
     "exception": false,
     "start_time": "2021-07-26T16:46:14.183066",
     "status": "completed"
    },
    "tags": []
   },
   "outputs": [],
   "source": [
    "clean_data = data.dropna()"
   ]
  },
  {
   "cell_type": "code",
   "execution_count": 8,
   "metadata": {
    "execution": {
     "iopub.execute_input": "2021-07-26T16:46:14.301904Z",
     "iopub.status.busy": "2021-07-26T16:46:14.300930Z",
     "iopub.status.idle": "2021-07-26T16:46:14.311444Z",
     "shell.execute_reply": "2021-07-26T16:46:14.312256Z",
     "shell.execute_reply.started": "2021-07-26T16:26:55.367059Z"
    },
    "papermill": {
     "duration": 0.04718,
     "end_time": "2021-07-26T16:46:14.312489",
     "exception": false,
     "start_time": "2021-07-26T16:46:14.265309",
     "status": "completed"
    },
    "tags": []
   },
   "outputs": [
    {
     "name": "stdout",
     "output_type": "stream",
     "text": [
      "column sex has 0 missing values\n",
      "column age has 0 missing values\n",
      "column income has 0 missing values\n",
      "column purchase has 0 missing values\n"
     ]
    }
   ],
   "source": [
    "for col in clean_data.columns:\n",
    "\n",
    "    missing_vals = clean_data[clean_data[col].isna()].shape[0]\n",
    "    \n",
    "    print(\"column\", col, \"has\", missing_vals, \"missing values\")"
   ]
  },
  {
   "cell_type": "code",
   "execution_count": 9,
   "metadata": {
    "execution": {
     "iopub.execute_input": "2021-07-26T16:46:14.369423Z",
     "iopub.status.busy": "2021-07-26T16:46:14.368777Z",
     "iopub.status.idle": "2021-07-26T16:46:14.375410Z",
     "shell.execute_reply": "2021-07-26T16:46:14.376034Z",
     "shell.execute_reply.started": "2021-07-26T16:26:55.382981Z"
    },
    "papermill": {
     "duration": 0.036321,
     "end_time": "2021-07-26T16:46:14.376217",
     "exception": false,
     "start_time": "2021-07-26T16:46:14.339896",
     "status": "completed"
    },
    "tags": []
   },
   "outputs": [],
   "source": [
    "clean_data['sex'] = pd.get_dummies(clean_data['sex'], drop_first=True)"
   ]
  },
  {
   "cell_type": "code",
   "execution_count": 10,
   "metadata": {
    "execution": {
     "iopub.execute_input": "2021-07-26T16:46:14.428893Z",
     "iopub.status.busy": "2021-07-26T16:46:14.428283Z",
     "iopub.status.idle": "2021-07-26T16:46:14.443401Z",
     "shell.execute_reply": "2021-07-26T16:46:14.442764Z",
     "shell.execute_reply.started": "2021-07-26T16:26:55.395069Z"
    },
    "papermill": {
     "duration": 0.042323,
     "end_time": "2021-07-26T16:46:14.443535",
     "exception": false,
     "start_time": "2021-07-26T16:46:14.401212",
     "status": "completed"
    },
    "tags": []
   },
   "outputs": [
    {
     "data": {
      "text/html": [
       "<div>\n",
       "<style scoped>\n",
       "    .dataframe tbody tr th:only-of-type {\n",
       "        vertical-align: middle;\n",
       "    }\n",
       "\n",
       "    .dataframe tbody tr th {\n",
       "        vertical-align: top;\n",
       "    }\n",
       "\n",
       "    .dataframe thead th {\n",
       "        text-align: right;\n",
       "    }\n",
       "</style>\n",
       "<table border=\"1\" class=\"dataframe\">\n",
       "  <thead>\n",
       "    <tr style=\"text-align: right;\">\n",
       "      <th></th>\n",
       "      <th>sex</th>\n",
       "      <th>age</th>\n",
       "      <th>income</th>\n",
       "      <th>purchase</th>\n",
       "    </tr>\n",
       "  </thead>\n",
       "  <tbody>\n",
       "    <tr>\n",
       "      <th>sex</th>\n",
       "      <td>1.000000</td>\n",
       "      <td>-0.076477</td>\n",
       "      <td>-0.027163</td>\n",
       "      <td>-0.030211</td>\n",
       "    </tr>\n",
       "    <tr>\n",
       "      <th>age</th>\n",
       "      <td>-0.076477</td>\n",
       "      <td>1.000000</td>\n",
       "      <td>0.127944</td>\n",
       "      <td>0.632383</td>\n",
       "    </tr>\n",
       "    <tr>\n",
       "      <th>income</th>\n",
       "      <td>-0.027163</td>\n",
       "      <td>0.127944</td>\n",
       "      <td>1.000000</td>\n",
       "      <td>0.336978</td>\n",
       "    </tr>\n",
       "    <tr>\n",
       "      <th>purchase</th>\n",
       "      <td>-0.030211</td>\n",
       "      <td>0.632383</td>\n",
       "      <td>0.336978</td>\n",
       "      <td>1.000000</td>\n",
       "    </tr>\n",
       "  </tbody>\n",
       "</table>\n",
       "</div>"
      ],
      "text/plain": [
       "               sex       age    income  purchase\n",
       "sex       1.000000 -0.076477 -0.027163 -0.030211\n",
       "age      -0.076477  1.000000  0.127944  0.632383\n",
       "income   -0.027163  0.127944  1.000000  0.336978\n",
       "purchase -0.030211  0.632383  0.336978  1.000000"
      ]
     },
     "execution_count": 10,
     "metadata": {},
     "output_type": "execute_result"
    }
   ],
   "source": [
    "clean_data.corr()"
   ]
  },
  {
   "cell_type": "code",
   "execution_count": 11,
   "metadata": {
    "execution": {
     "iopub.execute_input": "2021-07-26T16:46:14.499449Z",
     "iopub.status.busy": "2021-07-26T16:46:14.498746Z",
     "iopub.status.idle": "2021-07-26T16:46:18.592520Z",
     "shell.execute_reply": "2021-07-26T16:46:18.591955Z",
     "shell.execute_reply.started": "2021-07-26T16:26:55.419011Z"
    },
    "papermill": {
     "duration": 4.123661,
     "end_time": "2021-07-26T16:46:18.592654",
     "exception": false,
     "start_time": "2021-07-26T16:46:14.468993",
     "status": "completed"
    },
    "tags": []
   },
   "outputs": [
    {
     "data": {
      "text/plain": [
       "<seaborn.axisgrid.PairGrid at 0x7f0b556b6fd0>"
      ]
     },
     "execution_count": 11,
     "metadata": {},
     "output_type": "execute_result"
    },
    {
     "data": {
      "image/png": "[encoded data removed]",
      "text/plain": [
       "<Figure size 720x720 with 20 Axes>"
      ]
     },
     "metadata": {
      "needs_background": "light"
     },
     "output_type": "display_data"
    }
   ],
   "source": [
    "import seaborn as sns\n",
    "\n",
    "g = sns.PairGrid(clean_data)\n",
    "g.map_diag(sns.histplot)\n",
    "g.map_offdiag(sns.scatterplot)"
   ]
  },
  {
   "cell_type": "markdown",
   "metadata": {
    "papermill": {
     "duration": 0.028502,
     "end_time": "2021-07-26T16:46:18.650033",
     "exception": false,
     "start_time": "2021-07-26T16:46:18.621531",
     "status": "completed"
    },
    "tags": []
   },
   "source": [
    "### Part 2 Inference by logistic regression\n",
    "\n",
    "1. You have 3 predictors (sex, age, income) and the target class variable purchase, taking the value 1 if he or she already bought a car once in the past. To predict this class for new potential customers, you need to learn the logistic regression model parameters. \n",
    "2. Divide your client base into training and testing sets. \n",
    "3. Fit the model on a training set. \n",
    "4. Produce your estimated regression equation, interpret the coefficients and comment on the regression summary. \n",
    "5. Try to reduce your model, dropping some predictors, and repeat the above steps with each reduced version. \n",
    "6. Compare the fitting results for your models."
   ]
  },
  {
   "cell_type": "code",
   "execution_count": 12,
   "metadata": {
    "execution": {
     "iopub.execute_input": "2021-07-26T16:46:18.713916Z",
     "iopub.status.busy": "2021-07-26T16:46:18.713144Z",
     "iopub.status.idle": "2021-07-26T16:46:18.883703Z",
     "shell.execute_reply": "2021-07-26T16:46:18.883123Z",
     "shell.execute_reply.started": "2021-07-26T16:26:58.907505Z"
    },
    "papermill": {
     "duration": 0.204414,
     "end_time": "2021-07-26T16:46:18.883876",
     "exception": false,
     "start_time": "2021-07-26T16:46:18.679462",
     "status": "completed"
    },
    "tags": []
   },
   "outputs": [],
   "source": [
    "from sklearn.model_selection import train_test_split\n",
    "\n",
    "X = clean_data.drop(['purchase'], axis=1)\n",
    "y = clean_data['purchase']\n",
    "\n",
    "X_train, X_test, y_train, y_test = train_test_split(X,y,test_size=0.25, random_state=2)"
   ]
  },
  {
   "cell_type": "code",
   "execution_count": 13,
   "metadata": {
    "execution": {
     "iopub.execute_input": "2021-07-26T16:46:18.946356Z",
     "iopub.status.busy": "2021-07-26T16:46:18.945602Z",
     "iopub.status.idle": "2021-07-26T16:46:19.223908Z",
     "shell.execute_reply": "2021-07-26T16:46:19.223232Z",
     "shell.execute_reply.started": "2021-07-26T16:38:54.861136Z"
    },
    "papermill": {
     "duration": 0.311623,
     "end_time": "2021-07-26T16:46:19.224053",
     "exception": false,
     "start_time": "2021-07-26T16:46:18.912430",
     "status": "completed"
    },
    "tags": []
   },
   "outputs": [],
   "source": [
    "from sklearn.linear_model import LogisticRegression\n",
    "\n",
    "lr = LogisticRegression(random_state=2, solver='newton-cg')\n",
    "lr.fit(X_train, y_train)\n",
    "coefs = lr.coef_\n",
    "intercept = lr.intercept_"
   ]
  },
  {
   "cell_type": "code",
   "execution_count": 14,
   "metadata": {
    "execution": {
     "iopub.execute_input": "2021-07-26T16:46:19.290825Z",
     "iopub.status.busy": "2021-07-26T16:46:19.290176Z",
     "iopub.status.idle": "2021-07-26T16:46:19.293702Z",
     "shell.execute_reply": "2021-07-26T16:46:19.293205Z",
     "shell.execute_reply.started": "2021-07-26T16:38:58.582321Z"
    },
    "papermill": {
     "duration": 0.041298,
     "end_time": "2021-07-26T16:46:19.293854",
     "exception": false,
     "start_time": "2021-07-26T16:46:19.252556",
     "status": "completed"
    },
    "tags": []
   },
   "outputs": [
    {
     "data": {
      "text/html": [
       "<div>\n",
       "<style scoped>\n",
       "    .dataframe tbody tr th:only-of-type {\n",
       "        vertical-align: middle;\n",
       "    }\n",
       "\n",
       "    .dataframe tbody tr th {\n",
       "        vertical-align: top;\n",
       "    }\n",
       "\n",
       "    .dataframe thead th {\n",
       "        text-align: right;\n",
       "    }\n",
       "</style>\n",
       "<table border=\"1\" class=\"dataframe\">\n",
       "  <thead>\n",
       "    <tr style=\"text-align: right;\">\n",
       "      <th></th>\n",
       "      <th>sex</th>\n",
       "      <th>age</th>\n",
       "      <th>income</th>\n",
       "    </tr>\n",
       "  </thead>\n",
       "  <tbody>\n",
       "    <tr>\n",
       "      <th>243</th>\n",
       "      <td>0</td>\n",
       "      <td>56.0</td>\n",
       "      <td>104000.0</td>\n",
       "    </tr>\n",
       "  </tbody>\n",
       "</table>\n",
       "</div>"
      ],
      "text/plain": [
       "     sex   age    income\n",
       "243    0  56.0  104000.0"
      ]
     },
     "execution_count": 14,
     "metadata": {},
     "output_type": "execute_result"
    }
   ],
   "source": [
    "sample = X_test.sample()\n",
    "sample"
   ]
  },
  {
   "cell_type": "code",
   "execution_count": 15,
   "metadata": {
    "execution": {
     "iopub.execute_input": "2021-07-26T16:46:19.357001Z",
     "iopub.status.busy": "2021-07-26T16:46:19.356345Z",
     "iopub.status.idle": "2021-07-26T16:46:19.358227Z",
     "shell.execute_reply": "2021-07-26T16:46:19.358660Z",
     "shell.execute_reply.started": "2021-07-26T16:38:58.685577Z"
    },
    "papermill": {
     "duration": 0.036075,
     "end_time": "2021-07-26T16:46:19.358847",
     "exception": false,
     "start_time": "2021-07-26T16:46:19.322772",
     "status": "completed"
    },
    "tags": []
   },
   "outputs": [],
   "source": [
    "def regression_equation(features, coefs, intercept):\n",
    "    \n",
    "    z = intercept + np.dot(coefs, features.transpose())\n",
    "    \n",
    "    result = 1 / (1 + np.exp(-z))\n",
    "    \n",
    "    return 1-result, result"
   ]
  },
  {
   "cell_type": "code",
   "execution_count": 16,
   "metadata": {
    "execution": {
     "iopub.execute_input": "2021-07-26T16:46:19.419887Z",
     "iopub.status.busy": "2021-07-26T16:46:19.419262Z",
     "iopub.status.idle": "2021-07-26T16:46:19.426151Z",
     "shell.execute_reply": "2021-07-26T16:46:19.426591Z",
     "shell.execute_reply.started": "2021-07-26T16:38:58.969090Z"
    },
    "papermill": {
     "duration": 0.038934,
     "end_time": "2021-07-26T16:46:19.426760",
     "exception": false,
     "start_time": "2021-07-26T16:46:19.387826",
     "status": "completed"
    },
    "tags": []
   },
   "outputs": [
    {
     "data": {
      "text/plain": [
       "(array([[0.00848605]]), array([[0.99151395]]))"
      ]
     },
     "execution_count": 16,
     "metadata": {},
     "output_type": "execute_result"
    }
   ],
   "source": [
    "res = regression_equation(sample, coefs, intercept)\n",
    "res"
   ]
  },
  {
   "cell_type": "code",
   "execution_count": 17,
   "metadata": {
    "execution": {
     "iopub.execute_input": "2021-07-26T16:46:19.494548Z",
     "iopub.status.busy": "2021-07-26T16:46:19.493807Z",
     "iopub.status.idle": "2021-07-26T16:46:19.496925Z",
     "shell.execute_reply": "2021-07-26T16:46:19.497360Z",
     "shell.execute_reply.started": "2021-07-26T16:38:59.158429Z"
    },
    "papermill": {
     "duration": 0.040511,
     "end_time": "2021-07-26T16:46:19.497536",
     "exception": false,
     "start_time": "2021-07-26T16:46:19.457025",
     "status": "completed"
    },
    "tags": []
   },
   "outputs": [
    {
     "data": {
      "text/plain": [
       "array([[0.00848605, 0.99151395]])"
      ]
     },
     "execution_count": 17,
     "metadata": {},
     "output_type": "execute_result"
    }
   ],
   "source": [
    "lr.predict_proba(sample)"
   ]
  },
  {
   "cell_type": "code",
   "execution_count": 18,
   "metadata": {
    "execution": {
     "iopub.execute_input": "2021-07-26T16:46:19.571379Z",
     "iopub.status.busy": "2021-07-26T16:46:19.570692Z",
     "iopub.status.idle": "2021-07-26T16:46:19.573471Z",
     "shell.execute_reply": "2021-07-26T16:46:19.573993Z",
     "shell.execute_reply.started": "2021-07-26T16:38:59.359102Z"
    },
    "papermill": {
     "duration": 0.047283,
     "end_time": "2021-07-26T16:46:19.574394",
     "exception": false,
     "start_time": "2021-07-26T16:46:19.527111",
     "status": "completed"
    },
    "tags": []
   },
   "outputs": [
    {
     "data": {
      "text/plain": [
       "[('sex',),\n",
       " ('income',),\n",
       " ('age',),\n",
       " ('sex', 'income'),\n",
       " ('sex', 'age'),\n",
       " ('income', 'age'),\n",
       " ('sex', 'income', 'age')]"
      ]
     },
     "execution_count": 18,
     "metadata": {},
     "output_type": "execute_result"
    }
   ],
   "source": [
    "import itertools\n",
    "\n",
    "features = ['sex', 'income', 'age']\n",
    "feature_combinations = []\n",
    "\n",
    "for i in range(1,len(features)+1):\n",
    "   feature_combinations.extend(list(itertools.combinations(features,i)))\n",
    "\n",
    "feature_combinations"
   ]
  },
  {
   "cell_type": "code",
   "execution_count": 19,
   "metadata": {
    "execution": {
     "iopub.execute_input": "2021-07-26T16:46:19.647263Z",
     "iopub.status.busy": "2021-07-26T16:46:19.646294Z",
     "iopub.status.idle": "2021-07-26T16:46:20.322238Z",
     "shell.execute_reply": "2021-07-26T16:46:20.322786Z",
     "shell.execute_reply.started": "2021-07-26T16:44:41.480679Z"
    },
    "papermill": {
     "duration": 0.71343,
     "end_time": "2021-07-26T16:46:20.322991",
     "exception": false,
     "start_time": "2021-07-26T16:46:19.609561",
     "status": "completed"
    },
    "tags": []
   },
   "outputs": [],
   "source": [
    "results = pd.DataFrame(columns=['model', 'features', 'coefficients', 'intercept'])\n",
    "\n",
    "for features in feature_combinations:\n",
    "    \n",
    "    lr = LogisticRegression(random_state=2, solver='newton-cg', penalty='none')\n",
    "    lr.fit(X_train[list(features)], y_train)\n",
    "    coefs = lr.coef_\n",
    "    intercept = lr.intercept_\n",
    "    \n",
    "    res = {'model': lr, 'features':features, 'coefficients':coefs, 'intercept': intercept}\n",
    "    \n",
    "    results = results.append(res, ignore_index=True)\n",
    "    \n",
    "    "
   ]
  },
  {
   "cell_type": "code",
   "execution_count": 20,
   "metadata": {
    "execution": {
     "iopub.execute_input": "2021-07-26T16:46:20.390265Z",
     "iopub.status.busy": "2021-07-26T16:46:20.389589Z",
     "iopub.status.idle": "2021-07-26T16:46:20.411457Z",
     "shell.execute_reply": "2021-07-26T16:46:20.411927Z",
     "shell.execute_reply.started": "2021-07-26T16:44:43.099259Z"
    },
    "papermill": {
     "duration": 0.058669,
     "end_time": "2021-07-26T16:46:20.412116",
     "exception": false,
     "start_time": "2021-07-26T16:46:20.353447",
     "status": "completed"
    },
    "tags": []
   },
   "outputs": [
    {
     "data": {
      "text/html": [
       "<div>\n",
       "<style scoped>\n",
       "    .dataframe tbody tr th:only-of-type {\n",
       "        vertical-align: middle;\n",
       "    }\n",
       "\n",
       "    .dataframe tbody tr th {\n",
       "        vertical-align: top;\n",
       "    }\n",
       "\n",
       "    .dataframe thead th {\n",
       "        text-align: right;\n",
       "    }\n",
       "</style>\n",
       "<table border=\"1\" class=\"dataframe\">\n",
       "  <thead>\n",
       "    <tr style=\"text-align: right;\">\n",
       "      <th></th>\n",
       "      <th>model</th>\n",
       "      <th>features</th>\n",
       "      <th>coefficients</th>\n",
       "      <th>intercept</th>\n",
       "    </tr>\n",
       "  </thead>\n",
       "  <tbody>\n",
       "    <tr>\n",
       "      <th>0</th>\n",
       "      <td>LogisticRegression(penalty='none', random_stat...</td>\n",
       "      <td>(sex,)</td>\n",
       "      <td>[[-0.2395538807132843]]</td>\n",
       "      <td>[-0.42488319395531116]</td>\n",
       "    </tr>\n",
       "    <tr>\n",
       "      <th>1</th>\n",
       "      <td>LogisticRegression(penalty='none', random_stat...</td>\n",
       "      <td>(income,)</td>\n",
       "      <td>[[2.4721668973126758e-05]]</td>\n",
       "      <td>[-2.319473712621525]</td>\n",
       "    </tr>\n",
       "    <tr>\n",
       "      <th>2</th>\n",
       "      <td>LogisticRegression(penalty='none', random_stat...</td>\n",
       "      <td>(age,)</td>\n",
       "      <td>[[0.1901922610634426]]</td>\n",
       "      <td>[-8.177552025957855]</td>\n",
       "    </tr>\n",
       "    <tr>\n",
       "      <th>3</th>\n",
       "      <td>LogisticRegression(penalty='none', random_stat...</td>\n",
       "      <td>(sex, income)</td>\n",
       "      <td>[[-0.29206998915812926, 2.4871767936355425e-05]]</td>\n",
       "      <td>[-2.1922788785308858]</td>\n",
       "    </tr>\n",
       "    <tr>\n",
       "      <th>4</th>\n",
       "      <td>LogisticRegression(penalty='none', random_stat...</td>\n",
       "      <td>(sex, age)</td>\n",
       "      <td>[[0.1915701425977996, 0.19195541879958816]]</td>\n",
       "      <td>[-8.340654318569134]</td>\n",
       "    </tr>\n",
       "    <tr>\n",
       "      <th>5</th>\n",
       "      <td>LogisticRegression(penalty='none', random_stat...</td>\n",
       "      <td>(income, age)</td>\n",
       "      <td>[[4.246128056491223e-05, 0.254053576207142]]</td>\n",
       "      <td>[-13.823922576723499]</td>\n",
       "    </tr>\n",
       "    <tr>\n",
       "      <th>6</th>\n",
       "      <td>LogisticRegression(penalty='none', random_stat...</td>\n",
       "      <td>(sex, income, age)</td>\n",
       "      <td>[[0.2125275480142318, 4.240793739671124e-05, 0...</td>\n",
       "      <td>[-14.025979469279537]</td>\n",
       "    </tr>\n",
       "  </tbody>\n",
       "</table>\n",
       "</div>"
      ],
      "text/plain": [
       "                                               model            features  \\\n",
       "0  LogisticRegression(penalty='none', random_stat...              (sex,)   \n",
       "1  LogisticRegression(penalty='none', random_stat...           (income,)   \n",
       "2  LogisticRegression(penalty='none', random_stat...              (age,)   \n",
       "3  LogisticRegression(penalty='none', random_stat...       (sex, income)   \n",
       "4  LogisticRegression(penalty='none', random_stat...          (sex, age)   \n",
       "5  LogisticRegression(penalty='none', random_stat...       (income, age)   \n",
       "6  LogisticRegression(penalty='none', random_stat...  (sex, income, age)   \n",
       "\n",
       "                                        coefficients               intercept  \n",
       "0                            [[-0.2395538807132843]]  [-0.42488319395531116]  \n",
       "1                         [[2.4721668973126758e-05]]    [-2.319473712621525]  \n",
       "2                             [[0.1901922610634426]]    [-8.177552025957855]  \n",
       "3   [[-0.29206998915812926, 2.4871767936355425e-05]]   [-2.1922788785308858]  \n",
       "4        [[0.1915701425977996, 0.19195541879958816]]    [-8.340654318569134]  \n",
       "5       [[4.246128056491223e-05, 0.254053576207142]]   [-13.823922576723499]  \n",
       "6  [[0.2125275480142318, 4.240793739671124e-05, 0...   [-14.025979469279537]  "
      ]
     },
     "execution_count": 20,
     "metadata": {},
     "output_type": "execute_result"
    }
   ],
   "source": [
    "results"
   ]
  },
  {
   "cell_type": "markdown",
   "metadata": {
    "papermill": {
     "duration": 0.030221,
     "end_time": "2021-07-26T16:46:20.472876",
     "exception": false,
     "start_time": "2021-07-26T16:46:20.442655",
     "status": "completed"
    },
    "tags": []
   },
   "source": [
    "### Part 3. Prediction\n",
    "\n",
    "1. For each of the fitted models, predict the purchase class for the training set. \n",
    "2. For each of the fitted models, predict the purchase class for the testing set."
   ]
  },
  {
   "cell_type": "code",
   "execution_count": 21,
   "metadata": {
    "execution": {
     "iopub.execute_input": "2021-07-26T16:46:20.537165Z",
     "iopub.status.busy": "2021-07-26T16:46:20.536530Z",
     "iopub.status.idle": "2021-07-26T16:46:20.655088Z",
     "shell.execute_reply": "2021-07-26T16:46:20.654271Z",
     "shell.execute_reply.started": "2021-07-26T16:44:44.917522Z"
    },
    "papermill": {
     "duration": 0.151908,
     "end_time": "2021-07-26T16:46:20.655246",
     "exception": false,
     "start_time": "2021-07-26T16:46:20.503338",
     "status": "completed"
    },
    "tags": []
   },
   "outputs": [
    {
     "data": {
      "text/html": [
       "<div>\n",
       "<style scoped>\n",
       "    .dataframe tbody tr th:only-of-type {\n",
       "        vertical-align: middle;\n",
       "    }\n",
       "\n",
       "    .dataframe tbody tr th {\n",
       "        vertical-align: top;\n",
       "    }\n",
       "\n",
       "    .dataframe thead th {\n",
       "        text-align: right;\n",
       "    }\n",
       "</style>\n",
       "<table border=\"1\" class=\"dataframe\">\n",
       "  <thead>\n",
       "    <tr style=\"text-align: right;\">\n",
       "      <th></th>\n",
       "      <th>model</th>\n",
       "      <th>features</th>\n",
       "      <th>coefficients</th>\n",
       "      <th>intercept</th>\n",
       "      <th>train</th>\n",
       "      <th>test</th>\n",
       "    </tr>\n",
       "  </thead>\n",
       "  <tbody>\n",
       "    <tr>\n",
       "      <th>0</th>\n",
       "      <td>LogisticRegression(penalty='none', random_stat...</td>\n",
       "      <td>(sex,)</td>\n",
       "      <td>[[-0.2395538807132843]]</td>\n",
       "      <td>[-0.42488319395531116]</td>\n",
       "      <td>[0.0, 0.0, 0.0, 0.0, 0.0, 0.0, 0.0, 0.0, 0.0, ...</td>\n",
       "      <td>[0.0, 0.0, 0.0, 0.0, 0.0, 0.0, 0.0, 0.0, 0.0, ...</td>\n",
       "    </tr>\n",
       "    <tr>\n",
       "      <th>1</th>\n",
       "      <td>LogisticRegression(penalty='none', random_stat...</td>\n",
       "      <td>(income,)</td>\n",
       "      <td>[[2.4721668973126758e-05]]</td>\n",
       "      <td>[-2.319473712621525]</td>\n",
       "      <td>[0.0, 0.0, 0.0, 1.0, 0.0, 1.0, 0.0, 0.0, 0.0, ...</td>\n",
       "      <td>[0.0, 1.0, 0.0, 0.0, 0.0, 1.0, 0.0, 0.0, 0.0, ...</td>\n",
       "    </tr>\n",
       "    <tr>\n",
       "      <th>2</th>\n",
       "      <td>LogisticRegression(penalty='none', random_stat...</td>\n",
       "      <td>(age,)</td>\n",
       "      <td>[[0.1901922610634426]]</td>\n",
       "      <td>[-8.177552025957855]</td>\n",
       "      <td>[0.0, 0.0, 0.0, 0.0, 0.0, 1.0, 1.0, 0.0, 0.0, ...</td>\n",
       "      <td>[0.0, 1.0, 1.0, 1.0, 0.0, 1.0, 0.0, 1.0, 1.0, ...</td>\n",
       "    </tr>\n",
       "    <tr>\n",
       "      <th>3</th>\n",
       "      <td>LogisticRegression(penalty='none', random_stat...</td>\n",
       "      <td>(sex, income)</td>\n",
       "      <td>[[-0.29206998915812926, 2.4871767936355425e-05]]</td>\n",
       "      <td>[-2.1922788785308858]</td>\n",
       "      <td>[0.0, 0.0, 0.0, 1.0, 0.0, 1.0, 0.0, 0.0, 0.0, ...</td>\n",
       "      <td>[0.0, 1.0, 0.0, 0.0, 0.0, 1.0, 0.0, 0.0, 0.0, ...</td>\n",
       "    </tr>\n",
       "    <tr>\n",
       "      <th>4</th>\n",
       "      <td>LogisticRegression(penalty='none', random_stat...</td>\n",
       "      <td>(sex, age)</td>\n",
       "      <td>[[0.1915701425977996, 0.19195541879958816]]</td>\n",
       "      <td>[-8.340654318569134]</td>\n",
       "      <td>[0.0, 0.0, 0.0, 0.0, 0.0, 1.0, 1.0, 0.0, 0.0, ...</td>\n",
       "      <td>[0.0, 1.0, 1.0, 1.0, 0.0, 1.0, 0.0, 1.0, 1.0, ...</td>\n",
       "    </tr>\n",
       "    <tr>\n",
       "      <th>5</th>\n",
       "      <td>LogisticRegression(penalty='none', random_stat...</td>\n",
       "      <td>(income, age)</td>\n",
       "      <td>[[4.246128056491223e-05, 0.254053576207142]]</td>\n",
       "      <td>[-13.823922576723499]</td>\n",
       "      <td>[0.0, 0.0, 0.0, 0.0, 0.0, 1.0, 1.0, 0.0, 0.0, ...</td>\n",
       "      <td>[0.0, 1.0, 0.0, 1.0, 0.0, 1.0, 0.0, 1.0, 1.0, ...</td>\n",
       "    </tr>\n",
       "    <tr>\n",
       "      <th>6</th>\n",
       "      <td>LogisticRegression(penalty='none', random_stat...</td>\n",
       "      <td>(sex, income, age)</td>\n",
       "      <td>[[0.2125275480142318, 4.240793739671124e-05, 0...</td>\n",
       "      <td>[-14.025979469279537]</td>\n",
       "      <td>[0.0, 0.0, 0.0, 0.0, 0.0, 1.0, 1.0, 0.0, 0.0, ...</td>\n",
       "      <td>[0.0, 1.0, 0.0, 1.0, 0.0, 1.0, 0.0, 1.0, 1.0, ...</td>\n",
       "    </tr>\n",
       "  </tbody>\n",
       "</table>\n",
       "</div>"
      ],
      "text/plain": [
       "                                               model            features  \\\n",
       "0  LogisticRegression(penalty='none', random_stat...              (sex,)   \n",
       "1  LogisticRegression(penalty='none', random_stat...           (income,)   \n",
       "2  LogisticRegression(penalty='none', random_stat...              (age,)   \n",
       "3  LogisticRegression(penalty='none', random_stat...       (sex, income)   \n",
       "4  LogisticRegression(penalty='none', random_stat...          (sex, age)   \n",
       "5  LogisticRegression(penalty='none', random_stat...       (income, age)   \n",
       "6  LogisticRegression(penalty='none', random_stat...  (sex, income, age)   \n",
       "\n",
       "                                        coefficients               intercept  \\\n",
       "0                            [[-0.2395538807132843]]  [-0.42488319395531116]   \n",
       "1                         [[2.4721668973126758e-05]]    [-2.319473712621525]   \n",
       "2                             [[0.1901922610634426]]    [-8.177552025957855]   \n",
       "3   [[-0.29206998915812926, 2.4871767936355425e-05]]   [-2.1922788785308858]   \n",
       "4        [[0.1915701425977996, 0.19195541879958816]]    [-8.340654318569134]   \n",
       "5       [[4.246128056491223e-05, 0.254053576207142]]   [-13.823922576723499]   \n",
       "6  [[0.2125275480142318, 4.240793739671124e-05, 0...   [-14.025979469279537]   \n",
       "\n",
       "                                               train  \\\n",
       "0  [0.0, 0.0, 0.0, 0.0, 0.0, 0.0, 0.0, 0.0, 0.0, ...   \n",
       "1  [0.0, 0.0, 0.0, 1.0, 0.0, 1.0, 0.0, 0.0, 0.0, ...   \n",
       "2  [0.0, 0.0, 0.0, 0.0, 0.0, 1.0, 1.0, 0.0, 0.0, ...   \n",
       "3  [0.0, 0.0, 0.0, 1.0, 0.0, 1.0, 0.0, 0.0, 0.0, ...   \n",
       "4  [0.0, 0.0, 0.0, 0.0, 0.0, 1.0, 1.0, 0.0, 0.0, ...   \n",
       "5  [0.0, 0.0, 0.0, 0.0, 0.0, 1.0, 1.0, 0.0, 0.0, ...   \n",
       "6  [0.0, 0.0, 0.0, 0.0, 0.0, 1.0, 1.0, 0.0, 0.0, ...   \n",
       "\n",
       "                                                test  \n",
       "0  [0.0, 0.0, 0.0, 0.0, 0.0, 0.0, 0.0, 0.0, 0.0, ...  \n",
       "1  [0.0, 1.0, 0.0, 0.0, 0.0, 1.0, 0.0, 0.0, 0.0, ...  \n",
       "2  [0.0, 1.0, 1.0, 1.0, 0.0, 1.0, 0.0, 1.0, 1.0, ...  \n",
       "3  [0.0, 1.0, 0.0, 0.0, 0.0, 1.0, 0.0, 0.0, 0.0, ...  \n",
       "4  [0.0, 1.0, 1.0, 1.0, 0.0, 1.0, 0.0, 1.0, 1.0, ...  \n",
       "5  [0.0, 1.0, 0.0, 1.0, 0.0, 1.0, 0.0, 1.0, 1.0, ...  \n",
       "6  [0.0, 1.0, 0.0, 1.0, 0.0, 1.0, 0.0, 1.0, 1.0, ...  "
      ]
     },
     "execution_count": 21,
     "metadata": {},
     "output_type": "execute_result"
    }
   ],
   "source": [
    "predictions = pd.DataFrame(columns=['train', 'test'])\n",
    "\n",
    "for i in results.index:\n",
    "    pred_train = results['model'][i].predict(X_train[list(results['features'][i])])\n",
    "    pred_test = results['model'][i].predict(X_test[list(results['features'][i])])\n",
    "    \n",
    "    result = {'train': pred_train, 'test':pred_test}\n",
    "    \n",
    "    predictions = predictions.append(result, ignore_index=True)\n",
    "    \n",
    "results = pd.concat([results,predictions],axis=1)\n",
    "results"
   ]
  },
  {
   "cell_type": "markdown",
   "metadata": {
    "papermill": {
     "duration": 0.030857,
     "end_time": "2021-07-26T16:46:20.720283",
     "exception": false,
     "start_time": "2021-07-26T16:46:20.689426",
     "status": "completed"
    },
    "tags": []
   },
   "source": [
    "### Part 4. Evaluation of the prediction quality\n",
    "\n",
    "1. Produce the confusion matrix and the classification report for each of the predictions. \n",
    "2. Compare the results between the different models and also training versus testing sets."
   ]
  },
  {
   "cell_type": "code",
   "execution_count": 22,
   "metadata": {
    "execution": {
     "iopub.execute_input": "2021-07-26T16:46:20.787501Z",
     "iopub.status.busy": "2021-07-26T16:46:20.786671Z",
     "iopub.status.idle": "2021-07-26T16:46:20.789470Z",
     "shell.execute_reply": "2021-07-26T16:46:20.788982Z",
     "shell.execute_reply.started": "2021-07-26T16:44:46.715651Z"
    },
    "papermill": {
     "duration": 0.03809,
     "end_time": "2021-07-26T16:46:20.789603",
     "exception": false,
     "start_time": "2021-07-26T16:46:20.751513",
     "status": "completed"
    },
    "tags": []
   },
   "outputs": [],
   "source": [
    "from sklearn.metrics import confusion_matrix, accuracy_score, precision_score, f1_score, recall_score"
   ]
  },
  {
   "cell_type": "code",
   "execution_count": 23,
   "metadata": {
    "execution": {
     "iopub.execute_input": "2021-07-26T16:46:20.865524Z",
     "iopub.status.busy": "2021-07-26T16:46:20.864854Z",
     "iopub.status.idle": "2021-07-26T16:46:20.969810Z",
     "shell.execute_reply": "2021-07-26T16:46:20.969246Z",
     "shell.execute_reply.started": "2021-07-26T16:44:48.419047Z"
    },
    "papermill": {
     "duration": 0.14955,
     "end_time": "2021-07-26T16:46:20.969972",
     "exception": false,
     "start_time": "2021-07-26T16:46:20.820422",
     "status": "completed"
    },
    "tags": []
   },
   "outputs": [],
   "source": [
    "metrics = pd.DataFrame(columns=['train - confusion matrix', 'train - accuracy', 'train - precision', 'train - recall','train - f-score',\n",
    "                               'test - confusion matrix', 'test - accuracy', 'test - precision', 'test - recall','test - f-score'])\n",
    "\n",
    "for i in results.index:\n",
    "    \n",
    "    conf_train = confusion_matrix(y_train, results['train'][i])\n",
    "    acc_train = accuracy_score(y_train, results['train'][i])\n",
    "    prec_train = precision_score(y_train, results['train'][i])\n",
    "    recall_train = recall_score(y_train, results['train'][i])\n",
    "    f1_train = f1_score(y_train, results['train'][i])\n",
    "    \n",
    "    conf_test = confusion_matrix(y_test, results['test'][i])\n",
    "    acc_test = accuracy_score(y_test, results['test'][i])\n",
    "    prec_test = precision_score(y_test, results['test'][i])\n",
    "    recall_test = recall_score(y_test, results['test'][i])\n",
    "    f1_test = f1_score(y_test, results['test'][i])\n",
    "    \n",
    "    result = {'train - confusion matrix':conf_train, \n",
    "              'train - accuracy':acc_train, \n",
    "              'train - precision':prec_train, \n",
    "              'train - recall':recall_train,\n",
    "              'train - f-score':f1_train,\n",
    "              'test - confusion matrix':conf_test,\n",
    "              'test - accuracy':acc_test,\n",
    "              'test - precision':prec_test,\n",
    "              'test - recall':recall_test,\n",
    "              'test - f-score':f1_test}\n",
    "    \n",
    "    metrics = metrics.append(result, ignore_index = True)\n",
    "\n",
    "results = pd.concat([results, metrics], axis=1)"
   ]
  },
  {
   "cell_type": "code",
   "execution_count": 24,
   "metadata": {
    "execution": {
     "iopub.execute_input": "2021-07-26T16:46:21.070585Z",
     "iopub.status.busy": "2021-07-26T16:46:21.064936Z",
     "iopub.status.idle": "2021-07-26T16:46:21.117317Z",
     "shell.execute_reply": "2021-07-26T16:46:21.116628Z",
     "shell.execute_reply.started": "2021-07-26T16:44:49.463737Z"
    },
    "papermill": {
     "duration": 0.11645,
     "end_time": "2021-07-26T16:46:21.117466",
     "exception": false,
     "start_time": "2021-07-26T16:46:21.001016",
     "status": "completed"
    },
    "tags": []
   },
   "outputs": [
    {
     "data": {
      "text/html": [
       "<div>\n",
       "<style scoped>\n",
       "    .dataframe tbody tr th:only-of-type {\n",
       "        vertical-align: middle;\n",
       "    }\n",
       "\n",
       "    .dataframe tbody tr th {\n",
       "        vertical-align: top;\n",
       "    }\n",
       "\n",
       "    .dataframe thead th {\n",
       "        text-align: right;\n",
       "    }\n",
       "</style>\n",
       "<table border=\"1\" class=\"dataframe\">\n",
       "  <thead>\n",
       "    <tr style=\"text-align: right;\">\n",
       "      <th></th>\n",
       "      <th>model</th>\n",
       "      <th>features</th>\n",
       "      <th>coefficients</th>\n",
       "      <th>intercept</th>\n",
       "      <th>train</th>\n",
       "      <th>test</th>\n",
       "      <th>train - confusion matrix</th>\n",
       "      <th>train - accuracy</th>\n",
       "      <th>train - precision</th>\n",
       "      <th>train - recall</th>\n",
       "      <th>train - f-score</th>\n",
       "      <th>test - confusion matrix</th>\n",
       "      <th>test - accuracy</th>\n",
       "      <th>test - precision</th>\n",
       "      <th>test - recall</th>\n",
       "      <th>test - f-score</th>\n",
       "    </tr>\n",
       "  </thead>\n",
       "  <tbody>\n",
       "    <tr>\n",
       "      <th>0</th>\n",
       "      <td>LogisticRegression(penalty='none', random_stat...</td>\n",
       "      <td>(sex,)</td>\n",
       "      <td>[[-0.2395538807132843]]</td>\n",
       "      <td>[-0.42488319395531116]</td>\n",
       "      <td>[0.0, 0.0, 0.0, 0.0, 0.0, 0.0, 0.0, 0.0, 0.0, ...</td>\n",
       "      <td>[0.0, 0.0, 0.0, 0.0, 0.0, 0.0, 0.0, 0.0, 0.0, ...</td>\n",
       "      <td>[[207, 0], [121, 0]]</td>\n",
       "      <td>0.631098</td>\n",
       "      <td>0.000000</td>\n",
       "      <td>0.000000</td>\n",
       "      <td>0.000000</td>\n",
       "      <td>[[64, 0], [46, 0]]</td>\n",
       "      <td>0.581818</td>\n",
       "      <td>0.000000</td>\n",
       "      <td>0.000000</td>\n",
       "      <td>0.000000</td>\n",
       "    </tr>\n",
       "    <tr>\n",
       "      <th>1</th>\n",
       "      <td>LogisticRegression(penalty='none', random_stat...</td>\n",
       "      <td>(income,)</td>\n",
       "      <td>[[2.4721668973126758e-05]]</td>\n",
       "      <td>[-2.319473712621525]</td>\n",
       "      <td>[0.0, 0.0, 0.0, 1.0, 0.0, 1.0, 0.0, 0.0, 0.0, ...</td>\n",
       "      <td>[0.0, 1.0, 0.0, 0.0, 0.0, 1.0, 0.0, 0.0, 0.0, ...</td>\n",
       "      <td>[[198, 9], [65, 56]]</td>\n",
       "      <td>0.774390</td>\n",
       "      <td>0.861538</td>\n",
       "      <td>0.462810</td>\n",
       "      <td>0.602151</td>\n",
       "      <td>[[61, 3], [26, 20]]</td>\n",
       "      <td>0.736364</td>\n",
       "      <td>0.869565</td>\n",
       "      <td>0.434783</td>\n",
       "      <td>0.579710</td>\n",
       "    </tr>\n",
       "    <tr>\n",
       "      <th>2</th>\n",
       "      <td>LogisticRegression(penalty='none', random_stat...</td>\n",
       "      <td>(age,)</td>\n",
       "      <td>[[0.1901922610634426]]</td>\n",
       "      <td>[-8.177552025957855]</td>\n",
       "      <td>[0.0, 0.0, 0.0, 0.0, 0.0, 1.0, 1.0, 0.0, 0.0, ...</td>\n",
       "      <td>[0.0, 1.0, 1.0, 1.0, 0.0, 1.0, 0.0, 1.0, 1.0, ...</td>\n",
       "      <td>[[192, 15], [36, 85]]</td>\n",
       "      <td>0.844512</td>\n",
       "      <td>0.850000</td>\n",
       "      <td>0.702479</td>\n",
       "      <td>0.769231</td>\n",
       "      <td>[[60, 4], [16, 30]]</td>\n",
       "      <td>0.818182</td>\n",
       "      <td>0.882353</td>\n",
       "      <td>0.652174</td>\n",
       "      <td>0.750000</td>\n",
       "    </tr>\n",
       "    <tr>\n",
       "      <th>3</th>\n",
       "      <td>LogisticRegression(penalty='none', random_stat...</td>\n",
       "      <td>(sex, income)</td>\n",
       "      <td>[[-0.29206998915812926, 2.4871767936355425e-05]]</td>\n",
       "      <td>[-2.1922788785308858]</td>\n",
       "      <td>[0.0, 0.0, 0.0, 1.0, 0.0, 1.0, 0.0, 0.0, 0.0, ...</td>\n",
       "      <td>[0.0, 1.0, 0.0, 0.0, 0.0, 1.0, 0.0, 0.0, 0.0, ...</td>\n",
       "      <td>[[196, 11], [65, 56]]</td>\n",
       "      <td>0.768293</td>\n",
       "      <td>0.835821</td>\n",
       "      <td>0.462810</td>\n",
       "      <td>0.595745</td>\n",
       "      <td>[[61, 3], [25, 21]]</td>\n",
       "      <td>0.745455</td>\n",
       "      <td>0.875000</td>\n",
       "      <td>0.456522</td>\n",
       "      <td>0.600000</td>\n",
       "    </tr>\n",
       "    <tr>\n",
       "      <th>4</th>\n",
       "      <td>LogisticRegression(penalty='none', random_stat...</td>\n",
       "      <td>(sex, age)</td>\n",
       "      <td>[[0.1915701425977996, 0.19195541879958816]]</td>\n",
       "      <td>[-8.340654318569134]</td>\n",
       "      <td>[0.0, 0.0, 0.0, 0.0, 0.0, 1.0, 1.0, 0.0, 0.0, ...</td>\n",
       "      <td>[0.0, 1.0, 1.0, 1.0, 0.0, 1.0, 0.0, 1.0, 1.0, ...</td>\n",
       "      <td>[[192, 15], [37, 84]]</td>\n",
       "      <td>0.841463</td>\n",
       "      <td>0.848485</td>\n",
       "      <td>0.694215</td>\n",
       "      <td>0.763636</td>\n",
       "      <td>[[61, 3], [16, 30]]</td>\n",
       "      <td>0.827273</td>\n",
       "      <td>0.909091</td>\n",
       "      <td>0.652174</td>\n",
       "      <td>0.759494</td>\n",
       "    </tr>\n",
       "    <tr>\n",
       "      <th>5</th>\n",
       "      <td>LogisticRegression(penalty='none', random_stat...</td>\n",
       "      <td>(income, age)</td>\n",
       "      <td>[[4.246128056491223e-05, 0.254053576207142]]</td>\n",
       "      <td>[-13.823922576723499]</td>\n",
       "      <td>[0.0, 0.0, 0.0, 0.0, 0.0, 1.0, 1.0, 0.0, 0.0, ...</td>\n",
       "      <td>[0.0, 1.0, 0.0, 1.0, 0.0, 1.0, 0.0, 1.0, 1.0, ...</td>\n",
       "      <td>[[191, 16], [33, 88]]</td>\n",
       "      <td>0.850610</td>\n",
       "      <td>0.846154</td>\n",
       "      <td>0.727273</td>\n",
       "      <td>0.782222</td>\n",
       "      <td>[[59, 5], [13, 33]]</td>\n",
       "      <td>0.836364</td>\n",
       "      <td>0.868421</td>\n",
       "      <td>0.717391</td>\n",
       "      <td>0.785714</td>\n",
       "    </tr>\n",
       "    <tr>\n",
       "      <th>6</th>\n",
       "      <td>LogisticRegression(penalty='none', random_stat...</td>\n",
       "      <td>(sex, income, age)</td>\n",
       "      <td>[[0.2125275480142318, 4.240793739671124e-05, 0...</td>\n",
       "      <td>[-14.025979469279537]</td>\n",
       "      <td>[0.0, 0.0, 0.0, 0.0, 0.0, 1.0, 1.0, 0.0, 0.0, ...</td>\n",
       "      <td>[0.0, 1.0, 0.0, 1.0, 0.0, 1.0, 0.0, 1.0, 1.0, ...</td>\n",
       "      <td>[[190, 17], [32, 89]]</td>\n",
       "      <td>0.850610</td>\n",
       "      <td>0.839623</td>\n",
       "      <td>0.735537</td>\n",
       "      <td>0.784141</td>\n",
       "      <td>[[59, 5], [14, 32]]</td>\n",
       "      <td>0.827273</td>\n",
       "      <td>0.864865</td>\n",
       "      <td>0.695652</td>\n",
       "      <td>0.771084</td>\n",
       "    </tr>\n",
       "  </tbody>\n",
       "</table>\n",
       "</div>"
      ],
      "text/plain": [
       "                                               model            features  \\\n",
       "0  LogisticRegression(penalty='none', random_stat...              (sex,)   \n",
       "1  LogisticRegression(penalty='none', random_stat...           (income,)   \n",
       "2  LogisticRegression(penalty='none', random_stat...              (age,)   \n",
       "3  LogisticRegression(penalty='none', random_stat...       (sex, income)   \n",
       "4  LogisticRegression(penalty='none', random_stat...          (sex, age)   \n",
       "5  LogisticRegression(penalty='none', random_stat...       (income, age)   \n",
       "6  LogisticRegression(penalty='none', random_stat...  (sex, income, age)   \n",
       "\n",
       "                                        coefficients               intercept  \\\n",
       "0                            [[-0.2395538807132843]]  [-0.42488319395531116]   \n",
       "1                         [[2.4721668973126758e-05]]    [-2.319473712621525]   \n",
       "2                             [[0.1901922610634426]]    [-8.177552025957855]   \n",
       "3   [[-0.29206998915812926, 2.4871767936355425e-05]]   [-2.1922788785308858]   \n",
       "4        [[0.1915701425977996, 0.19195541879958816]]    [-8.340654318569134]   \n",
       "5       [[4.246128056491223e-05, 0.254053576207142]]   [-13.823922576723499]   \n",
       "6  [[0.2125275480142318, 4.240793739671124e-05, 0...   [-14.025979469279537]   \n",
       "\n",
       "                                               train  \\\n",
       "0  [0.0, 0.0, 0.0, 0.0, 0.0, 0.0, 0.0, 0.0, 0.0, ...   \n",
       "1  [0.0, 0.0, 0.0, 1.0, 0.0, 1.0, 0.0, 0.0, 0.0, ...   \n",
       "2  [0.0, 0.0, 0.0, 0.0, 0.0, 1.0, 1.0, 0.0, 0.0, ...   \n",
       "3  [0.0, 0.0, 0.0, 1.0, 0.0, 1.0, 0.0, 0.0, 0.0, ...   \n",
       "4  [0.0, 0.0, 0.0, 0.0, 0.0, 1.0, 1.0, 0.0, 0.0, ...   \n",
       "5  [0.0, 0.0, 0.0, 0.0, 0.0, 1.0, 1.0, 0.0, 0.0, ...   \n",
       "6  [0.0, 0.0, 0.0, 0.0, 0.0, 1.0, 1.0, 0.0, 0.0, ...   \n",
       "\n",
       "                                                test train - confusion matrix  \\\n",
       "0  [0.0, 0.0, 0.0, 0.0, 0.0, 0.0, 0.0, 0.0, 0.0, ...     [[207, 0], [121, 0]]   \n",
       "1  [0.0, 1.0, 0.0, 0.0, 0.0, 1.0, 0.0, 0.0, 0.0, ...     [[198, 9], [65, 56]]   \n",
       "2  [0.0, 1.0, 1.0, 1.0, 0.0, 1.0, 0.0, 1.0, 1.0, ...    [[192, 15], [36, 85]]   \n",
       "3  [0.0, 1.0, 0.0, 0.0, 0.0, 1.0, 0.0, 0.0, 0.0, ...    [[196, 11], [65, 56]]   \n",
       "4  [0.0, 1.0, 1.0, 1.0, 0.0, 1.0, 0.0, 1.0, 1.0, ...    [[192, 15], [37, 84]]   \n",
       "5  [0.0, 1.0, 0.0, 1.0, 0.0, 1.0, 0.0, 1.0, 1.0, ...    [[191, 16], [33, 88]]   \n",
       "6  [0.0, 1.0, 0.0, 1.0, 0.0, 1.0, 0.0, 1.0, 1.0, ...    [[190, 17], [32, 89]]   \n",
       "\n",
       "   train - accuracy  train - precision  train - recall  train - f-score  \\\n",
       "0          0.631098           0.000000        0.000000         0.000000   \n",
       "1          0.774390           0.861538        0.462810         0.602151   \n",
       "2          0.844512           0.850000        0.702479         0.769231   \n",
       "3          0.768293           0.835821        0.462810         0.595745   \n",
       "4          0.841463           0.848485        0.694215         0.763636   \n",
       "5          0.850610           0.846154        0.727273         0.782222   \n",
       "6          0.850610           0.839623        0.735537         0.784141   \n",
       "\n",
       "  test - confusion matrix  test - accuracy  test - precision  test - recall  \\\n",
       "0      [[64, 0], [46, 0]]         0.581818          0.000000       0.000000   \n",
       "1     [[61, 3], [26, 20]]         0.736364          0.869565       0.434783   \n",
       "2     [[60, 4], [16, 30]]         0.818182          0.882353       0.652174   \n",
       "3     [[61, 3], [25, 21]]         0.745455          0.875000       0.456522   \n",
       "4     [[61, 3], [16, 30]]         0.827273          0.909091       0.652174   \n",
       "5     [[59, 5], [13, 33]]         0.836364          0.868421       0.717391   \n",
       "6     [[59, 5], [14, 32]]         0.827273          0.864865       0.695652   \n",
       "\n",
       "   test - f-score  \n",
       "0        0.000000  \n",
       "1        0.579710  \n",
       "2        0.750000  \n",
       "3        0.600000  \n",
       "4        0.759494  \n",
       "5        0.785714  \n",
       "6        0.771084  "
      ]
     },
     "execution_count": 24,
     "metadata": {},
     "output_type": "execute_result"
    }
   ],
   "source": [
    "results"
   ]
  }
 ],
 "metadata": {
  "kernelspec": {
   "display_name": "Python 3",
   "language": "python",
   "name": "python3"
  },
  "language_info": {
   "codemirror_mode": {
    "name": "ipython",
    "version": 3
   },
   "file_extension": ".py",
   "mimetype": "text/x-python",
   "name": "python",
   "nbconvert_exporter": "python",
   "pygments_lexer": "ipython3",
   "version": "3.8.5"
  },
  "papermill": {
   "default_parameters": {},
   "duration": 16.79895,
   "end_time": "2021-07-26T16:46:22.546667",
   "environment_variables": {},
   "exception": null,
   "input_path": "__notebook__.ipynb",
   "output_path": "__notebook__.ipynb",
   "parameters": {},
   "start_time": "2021-07-26T16:46:05.747717",
   "version": "2.3.3"
  }
 },
 "nbformat": 4,
 "nbformat_minor": 5
}
